{
 "cells": [
  {
   "cell_type": "markdown",
   "metadata": {},
   "source": [
    "## Import Libraries"
   ]
  },
  {
   "cell_type": "code",
   "execution_count": null,
   "metadata": {},
   "outputs": [],
   "source": [
    "## Import the required Libraries\n",
    "\n",
    "try:\n",
    "    import requests\n",
    "    from datetime import datetime\n",
    "    import csv\n",
    "    print('Required dependencies already exist')\n",
    "except ImportError:\n",
    "    print(\"Required dependencies are missing. Please run 'pip install -r requirements.txt' to install them.\")\n",
    "    exit(1)"
   ]
  },
  {
   "cell_type": "markdown",
   "metadata": {},
   "source": [
    "## Retrive Data"
   ]
  },
  {
   "cell_type": "code",
   "execution_count": null,
   "metadata": {},
   "outputs": [],
   "source": [
    "## Data source URL\n",
    "url = \"https://www.common.com/cmn-api/listings/common\"\n",
    "\n",
    "## Retrive the data from the Data source\n",
    "try:\n",
    "    response = requests.get(url)\n",
    "    # Check if the request was successful (status code 200)\n",
    "    if response.status_code == 200:\n",
    "        # Extract the JSON data from the response\n",
    "        data = response.json()\n",
    "        # Now you can work with the data\n",
    "        print('Data was successfully retrived')\n",
    "    else:\n",
    "        print(\"Failed to retrieve data. Status code:\", response.status_code)\n",
    "except requests.exceptions.RequestException as e:\n",
    "    print(\"Error:\", e)"
   ]
  },
  {
   "cell_type": "markdown",
   "metadata": {},
   "source": [
    "## Schema Design"
   ]
  },
  {
   "cell_type": "code",
   "execution_count": null,
   "metadata": {},
   "outputs": [],
   "source": [
    "# Property class definition\n",
    "class Property:\n",
    "    def __init__(self, data):\n",
    "        self.id = data['propertyId']\n",
    "        self.propertyName = data['propertyName']\n",
    "        self.marketingName = data['marketingName']\n",
    "        self.neighborhood = data['neighborhood']\n",
    "        self.description = data['description']\n",
    "        self.neighborhoodDescription = data['neighborhoodDescription']\n",
    "        self.currencyCode = data['currencyCode']\n",
    "\n",
    "# Address class definition\n",
    "class Address:\n",
    "    def __init__(self, data):\n",
    "        self.id = f\"{data['id']}-{data['propertyId']}\"  ## Concatination of id and propertyID to create a unique addressID.\n",
    "        address_data = data['address'] \n",
    "        self.fullAddress = address_data['fullAddress']\n",
    "        self.roomNumber = address_data['roomNumber']\n",
    "        self.streetAddress = address_data['streetAddress']\n",
    "        self.city = address_data['city']\n",
    "        self.stateCode = address_data['stateCode']\n",
    "        self.postalCode = address_data['postalCode']\n",
    "        self.countryCode = address_data['countryCode']\n",
    "        self.latitude = address_data['latitude']\n",
    "        self.longitude = address_data['longitude']\n",
    "        self.belongedCity = address_data['belongedCity']\n",
    "\n",
    "# Unit class definition\n",
    "class Unit:\n",
    "    def __init__(self, data):\n",
    "        self.id = data['id']\n",
    "        self.propertyId = data['propertyId']\n",
    "        self.addressId = f\"{data['id']}-{data['propertyId']}\" ## Concatination of id and propertyID to create a unique addressID.\n",
    "        self.bedrooms = data['bedrooms']\n",
    "        self.listingSqft = data['listingSqft']\n",
    "        self.unitSqft = data['unitSqft']\n",
    "        self.occupancyType = data['occupancyType']\n",
    "        self.availableDate = datetime.strptime(data['availableDate'], '%Y-%m-%d')\n",
    "\n",
    "# Pricing class definition\n",
    "class Pricing:\n",
    "    def __init__(self, data):\n",
    "        self.id = f\"{data['id']}-{data['months']}\"  ## Concatination of id and months to create a unique PricingID.\n",
    "        self.unitId = data['id']\n",
    "        self.name = data['name']\n",
    "        self.durationMonths = data['months']\n",
    "        self.amount = data['amount']\n",
    "        self.concessionsApplied = ', '.join(data['concessionsApplied']) ## get the list of concessionsApplied in the form of text as there can be multiple concessions.\n",
    "        self.minimumPrice = data['pricing']['minimumPrice']  ## minimumPrice for each unit\n",
    "        self.maximumPrice = data['pricing']['maximumPrice']  ## maximumPrice for each unit\n",
    "        self.minimumStay = data['pricing']['minimumStay']    ## minimumStay for each unit\n",
    "\n",
    "# Fee class definition\n",
    "class Fee:\n",
    "    def __init__(self, data):\n",
    "        self.id = f\"{data['id']}-{data['name']}\" ## Concatination of id and name to create a unique FeeID.\n",
    "        self.unitId = data['id']\n",
    "        self.name = data['name']\n",
    "        self.description = data['description']\n",
    "        self.amount = data['amount']\n",
    "        self.isMandatory = data['isMandatory']\n",
    "        self.isRefundable = data['isRefundable']\n",
    "\n",
    "# Image class definition\n",
    "class Image:\n",
    "    def __init__(self, data):\n",
    "        self.unitId = data['id']\n",
    "        self.url = data['url']\n",
    "        self.tag = data['tag']\n"
   ]
  },
  {
   "cell_type": "markdown",
   "metadata": {},
   "source": [
    "## Transform JSON data into object models"
   ]
  },
  {
   "cell_type": "code",
   "execution_count": null,
   "metadata": {},
   "outputs": [],
   "source": [
    "## Properties, Addresses, and Units: Each item in the JSON data corresponds directly to an object of these types.\n",
    "properties = [Property(item) for item in data]\n",
    "addresses = [Address(item) for item in data]\n",
    "units = [Unit(item) for item in data]"
   ]
  },
  {
   "cell_type": "code",
   "execution_count": null,
   "metadata": {},
   "outputs": [],
   "source": [
    "## Pricings, Fees, and Images: Each item in the JSON data contains multiple entries for pricing, fees, and images respectively.\n",
    "## Therefore, we iterate over these entries separately to create objects for each of them.\n",
    "pricings = []\n",
    "for item in data:\n",
    "    for each_item in item['pricing']['monthlyPricing']:\n",
    "        pricings.append(Pricing({**item, **each_item}))\n",
    "\n",
    "fees = []\n",
    "for item in data:\n",
    "    for each_item in item['fees']:\n",
    "        fees.append(Fee({**item, **each_item}))\n",
    "\n",
    "images = []\n",
    "for item in data:\n",
    "    for each_item in item['images']:\n",
    "        images.append(Image({**item, **each_item}))"
   ]
  },
  {
   "cell_type": "markdown",
   "metadata": {},
   "source": [
    "## Function to create CSV file"
   ]
  },
  {
   "cell_type": "code",
   "execution_count": null,
   "metadata": {},
   "outputs": [],
   "source": [
    "# Function to Create CSV files from objects\n",
    "# Also make sure to drop duplicate rows (eg. Propertties file was getting duplicated rows)\n",
    "\n",
    "def generate_csv(objects, filename):\n",
    "    unique_rows = set()\n",
    "    with open(filename, 'w', newline='') as f:\n",
    "        writer = csv.DictWriter(f, fieldnames=objects[0].__dict__.keys(), delimiter=';')\n",
    "        writer.writeheader()\n",
    "        for obj in objects:\n",
    "              obj_row = tuple(obj.__dict__.values())\n",
    "              if obj_row not in unique_rows:\n",
    "                  writer.writerow(obj.__dict__)\n",
    "                  unique_rows.add(obj_row)"
   ]
  },
  {
   "cell_type": "markdown",
   "metadata": {},
   "source": [
    "## Create CSV files"
   ]
  },
  {
   "cell_type": "code",
   "execution_count": null,
   "metadata": {},
   "outputs": [],
   "source": [
    "## Using the created function. Generate the respective CSV files\n",
    "\n",
    "generate_csv(properties, 'properties.csv')\n",
    "generate_csv(addresses, 'addresses.csv')\n",
    "generate_csv(units, 'units.csv')\n",
    "generate_csv(pricings, 'pricings.csv')\n",
    "generate_csv(fees, 'fees.csv')\n",
    "generate_csv(images, 'images.csv')"
   ]
  }
 ],
 "metadata": {
  "kernelspec": {
   "display_name": "Python 3",
   "language": "python",
   "name": "python3"
  },
  "language_info": {
   "codemirror_mode": {
    "name": "ipython",
    "version": 3
   },
   "file_extension": ".py",
   "mimetype": "text/x-python",
   "name": "python",
   "nbconvert_exporter": "python",
   "pygments_lexer": "ipython3",
   "version": "3.9.6"
  }
 },
 "nbformat": 4,
 "nbformat_minor": 2
}
